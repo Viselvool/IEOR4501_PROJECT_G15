{
 "cells": [
  {
   "cell_type": "code",
   "execution_count": 1,
   "id": "83b2f89c-d67d-48f0-a487-927822ed311e",
   "metadata": {},
   "outputs": [],
   "source": [
    "import pandas as pd\n",
    "import csv\n",
    "import numpy as np\n",
    "csv_file_name = '311_Service_Requests_2020.csv'\n",
    "lookup_zip = '10471'\n",
    "df = pd.read_csv(csv_file_name, dtype = 'str')"
   ]
  },
  {
   "cell_type": "code",
   "execution_count": 2,
   "id": "8b141a5f",
   "metadata": {},
   "outputs": [],
   "source": [
    "zip_search = df[df['Incident Zip'] == lookup_zip]\n",
    "complaint_type_count_10471 = zip_search['Complaint Type'].value_counts()\n",
    "illegal_parking_count_10471 = complaint_type_count_10471['Illegal Parking']\n",
    "total_complaint_count_10471 = complaint_type_count_10471.sum()"
   ]
  },
  {
   "cell_type": "code",
   "execution_count": 3,
   "id": "3242e960",
   "metadata": {},
   "outputs": [],
   "source": [
    "parking_proportion_10471 = (illegal_parking_count_10471/total_complaint_count_10471)*100\n",
    "complaint_type_count_global = df['Complaint Type'].value_counts()\n",
    "illegal_parking_count_global = complaint_type_count_global['Illegal Parking']\n",
    "total_complaint_count_global = complaint_type_count_global.sum()"
   ]
  },
  {
   "cell_type": "code",
   "execution_count": 4,
   "id": "01d32bbc",
   "metadata": {},
   "outputs": [
    {
     "name": "stdout",
     "output_type": "stream",
     "text": [
      "13.15097317201473\n",
      "7.4873343650331075\n",
      "True\n"
     ]
    }
   ],
   "source": [
    "parking_proportion_global = (illegal_parking_count_global/total_complaint_count_global)*100\n",
    "print(parking_proportion_10471)\n",
    "print(parking_proportion_global)\n",
    "higher_parking_proportion = print(parking_proportion_10471 > parking_proportion_global)"
   ]
  }
 ],
 "metadata": {
  "interpreter": {
   "hash": "359c956d0f6d28574cecfd094b7b42445b95eb360f3c3213a3438648becde83f"
  },
  "kernelspec": {
   "display_name": "Python 3.9.0 64-bit",
   "name": "python3"
  },
  "language_info": {
   "codemirror_mode": {
    "name": "ipython",
    "version": 3
   },
   "file_extension": ".py",
   "mimetype": "text/x-python",
   "name": "python",
   "nbconvert_exporter": "python",
   "pygments_lexer": "ipython3",
   "version": "3.9.0"
  }
 },
 "nbformat": 4,
 "nbformat_minor": 5
}
