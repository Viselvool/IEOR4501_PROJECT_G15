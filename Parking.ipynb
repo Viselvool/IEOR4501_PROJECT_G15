{
 "cells": [
  {
   "cell_type": "code",
   "execution_count": null,
   "id": "83b2f89c-d67d-48f0-a487-927822ed311e",
   "metadata": {},
   "outputs": [],
   "source": [
    "import pandas as pd\n",
    "import csv\n",
    "import numpy as np\n",
    "csv_file_name = '311_Service_Requests_2020.csv'\n",
    "lookup_zip = '10471'\n",
    "df = pd.read_csv(csv_file_name, dtype = 'str')"
   ]
  },
  {
   "cell_type": "code",
   "execution_count": null,
   "id": "8b141a5f",
   "metadata": {},
   "outputs": [],
   "source": [
    "zip_search = df[df['Incident Zip'] == lookup_zip]\n",
    "complaint_type_count_10471 = zip_search['Complaint Type'].value_counts()\n",
    "illegal_parking_count_10471 = complaint_type_count_10471['Illegal Parking']\n",
    "total_complaint_count_10471 = complaint_type_count_10471.sum()"
   ]
  },
  {
   "cell_type": "code",
   "execution_count": null,
   "id": "3242e960",
   "metadata": {},
   "outputs": [],
   "source": []
  }
 ],
 "metadata": {
  "kernelspec": {
   "display_name": "Python 3",
   "language": "python",
   "name": "python3"
  },
  "language_info": {
   "codemirror_mode": {
    "name": "ipython",
    "version": 3
   },
   "file_extension": ".py",
   "mimetype": "text/x-python",
   "name": "python",
   "nbconvert_exporter": "python",
   "pygments_lexer": "ipython3",
   "version": "3.8.8"
  }
 },
 "nbformat": 4,
 "nbformat_minor": 5
}
