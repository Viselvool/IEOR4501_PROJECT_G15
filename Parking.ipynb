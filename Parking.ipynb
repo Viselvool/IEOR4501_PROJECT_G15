{
 "cells": [
  {
   "cell_type": "code",
   "execution_count": null,
   "metadata": {},
   "outputs": [],
   "source": [
    "import pandas as pd\n",
    "import csv\n",
    "import numpy as np\n",
    "csv_file_name = '311_Service_Requests_2020.csv'\n",
    "lookup_zip = '10471'\n",
    "df = pd.read_csv(csv_file_name, dtype = 'str')"
   ]
  },
  {
   "cell_type": "code",
   "execution_count": null,
   "metadata": {},
   "outputs": [],
   "source": []
  }
 ],
 "metadata": {
  "language_info": {
   "name": "python"
  },
  "orig_nbformat": 4
 },
 "nbformat": 4,
 "nbformat_minor": 2
}
