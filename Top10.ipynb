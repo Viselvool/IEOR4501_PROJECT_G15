{
 "cells": [
  {
   "cell_type": "code",
   "execution_count": 1,
   "id": "100626d4-e0b0-453a-996c-6d480dd4e238",
   "metadata": {},
   "outputs": [],
   "source": [
    "import csv\n",
    "import numpy as np\n",
    "import pandas as pd\n",
    "df = pd.read_csv(\"311_Service_Requests_2020.csv\", low_memory=False)\n",
    " \n",
    "zip_code = df[df['Incident Zip']==10471]\n",
    "complaint_type = pd.Series(zip_code['Complaint Type'])"
   ]
  },
  {
   "cell_type": "code",
   "execution_count": 2,
   "metadata": {},
   "outputs": [
    {
     "data": {
      "text/plain": [
       "Noise - Residential            993\n",
       "Illegal Parking                750\n",
       "Street Condition               306\n",
       "HEAT/HOT WATER                 306\n",
       "Damaged Tree                   291\n",
       "Noise - Street/Sidewalk        278\n",
       "Water System                   212\n",
       "Non-Emergency Police Matter    185\n",
       "Abandoned Vehicle              173\n",
       "Blocked Driveway               137\n",
       "Name: Complaint Type, dtype: int64"
      ]
     },
     "execution_count": 2,
     "metadata": {},
     "output_type": "execute_result"
    }
   ],
   "source": [
    "rank = complaint_type.value_counts()\n",
    "top = rank.sort_values(ascending=False)\n",
    "top10 = top[:10]\n",
    "\n",
    "top10"
   ]
  }
 ],
 "metadata": {
  "interpreter": {
   "hash": "359c956d0f6d28574cecfd094b7b42445b95eb360f3c3213a3438648becde83f"
  },
  "kernelspec": {
   "display_name": "Python 3.9.0 64-bit",
   "name": "python3"
  },
  "language_info": {
   "codemirror_mode": {
    "name": "ipython",
    "version": 3
   },
   "file_extension": ".py",
   "mimetype": "text/x-python",
   "name": "python",
   "nbconvert_exporter": "python",
   "pygments_lexer": "ipython3",
   "version": "3.9.0"
  }
 },
 "nbformat": 4,
 "nbformat_minor": 5
}
